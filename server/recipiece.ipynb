{
 "cells": [
  {
   "cell_type": "code",
   "execution_count": 1,
   "metadata": {},
   "outputs": [],
   "source": [
    "import requests\n",
    "\n",
    "r = requests.post('http://redecodifica.com/reniec/consulta_reniec.php', {'dni': '72659413'})"
   ]
  },
  {
   "cell_type": "code",
   "execution_count": 2,
   "metadata": {},
   "outputs": [
    {
     "data": {
      "text/plain": [
       "'//archivo consulta_reniec.php\\n \\n//Corregido varios programadores\\n//Creditos Programadores\\n//Lima-Peru\\n \\n[\"72659413\",\"NELSON ALEJANDRO\",\"FUENTES\",\"PAREDES\"]'"
      ]
     },
     "execution_count": 2,
     "metadata": {},
     "output_type": "execute_result"
    }
   ],
   "source": [
    "r.text"
   ]
  },
  {
   "cell_type": "code",
   "execution_count": 3,
   "metadata": {},
   "outputs": [],
   "source": [
    "s = r.text"
   ]
  },
  {
   "cell_type": "code",
   "execution_count": 4,
   "metadata": {},
   "outputs": [
    {
     "data": {
      "text/plain": [
       "'[72659413,NELSON ALEJANDRO,FUENTES,PAREDES]'"
      ]
     },
     "execution_count": 4,
     "metadata": {},
     "output_type": "execute_result"
    }
   ],
   "source": [
    "arr = s.split('\\n').pop().replace('\"', '')\n",
    "arr"
   ]
  },
  {
   "cell_type": "code",
   "execution_count": 5,
   "metadata": {},
   "outputs": [
    {
     "data": {
      "text/plain": [
       "['72659413', 'Nelson Alejandro', 'Fuentes', 'Paredes']"
      ]
     },
     "execution_count": 5,
     "metadata": {},
     "output_type": "execute_result"
    }
   ],
   "source": [
    "import re\n",
    "\n",
    "re.split('\\[(.+)\\]', arr)[1].title().split(',')"
   ]
  },
  {
   "cell_type": "code",
   "execution_count": 6,
   "metadata": {},
   "outputs": [
    {
     "data": {
      "text/plain": [
       "['72659413', 'Nelson Alejandro', 'Fuentes', 'Paredes']"
      ]
     },
     "execution_count": 6,
     "metadata": {},
     "output_type": "execute_result"
    }
   ],
   "source": [
    "def getUser(dni):\n",
    "    response = requests.post('http://redecodifica.com/reniec/consulta_reniec.php', {'dni': '72659413'})\n",
    "    arr = re.split('\\[(.+)\\]', response.text.split('\\n').pop().replace('\"', ''))[1].title().split(',')\n",
    "        \n",
    "    return arr\n",
    "    \n",
    "getUser('72659413')"
   ]
  },
  {
   "cell_type": "code",
   "execution_count": 7,
   "metadata": {},
   "outputs": [],
   "source": [
    "URL = 'http://redecodifica.com/reniec/consulta_reniec.php'\n",
    "\n",
    "\n",
    "class ReniecService:\n",
    "\n",
    "    def getUser(self, dni):\n",
    "        response = requests.post(URL, {'dni': '72659413'})\n",
    "        arr = re.split('\\[(.+)\\]', response.text.split('\\n').pop().replace('\"', ''))[1].title().split(',')\n",
    "        if arr[1] is None or arr[2] is None or arr[3] is None: \n",
    "            return None\n",
    "        else: \n",
    "            return arr"
   ]
  },
  {
   "cell_type": "code",
   "execution_count": 8,
   "metadata": {},
   "outputs": [
    {
     "data": {
      "text/plain": [
       "['72659413', 'Nelson Alejandro', 'Fuentes', 'Paredes']"
      ]
     },
     "execution_count": 8,
     "metadata": {},
     "output_type": "execute_result"
    }
   ],
   "source": [
    "ReniecService().getUser('7265941')"
   ]
  },
  {
   "cell_type": "code",
   "execution_count": null,
   "metadata": {},
   "outputs": [],
   "source": []
  }
 ],
 "metadata": {
  "kernelspec": {
   "display_name": "Python 3",
   "language": "python",
   "name": "python3"
  },
  "language_info": {
   "codemirror_mode": {
    "name": "ipython",
    "version": 3
   },
   "file_extension": ".py",
   "mimetype": "text/x-python",
   "name": "python",
   "nbconvert_exporter": "python",
   "pygments_lexer": "ipython3",
   "version": "3.8.2"
  }
 },
 "nbformat": 4,
 "nbformat_minor": 4
}
